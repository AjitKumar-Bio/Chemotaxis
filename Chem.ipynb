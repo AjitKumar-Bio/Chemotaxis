{
 "cells": [
  {
   "cell_type": "code",
   "execution_count": 4,
   "metadata": {},
   "outputs": [
    {
     "ename": "AttributeError",
     "evalue": "module 'cv2' has no attribute 'Tracker_create'",
     "output_type": "error",
     "traceback": [
      "\u001b[1;31m---------------------------------------------------------------------------\u001b[0m",
      "\u001b[1;31mAttributeError\u001b[0m                            Traceback (most recent call last)",
      "Cell \u001b[1;32mIn[4], line 14\u001b[0m\n\u001b[0;32m     11\u001b[0m cell_template \u001b[39m=\u001b[39m gray1[\u001b[39m100\u001b[39m:\u001b[39m150\u001b[39m, \u001b[39m100\u001b[39m:\u001b[39m150\u001b[39m]\n\u001b[0;32m     13\u001b[0m \u001b[39m# Initialize the tracker\u001b[39;00m\n\u001b[1;32m---> 14\u001b[0m tracker \u001b[39m=\u001b[39m cv2\u001b[39m.\u001b[39;49mTracker_create(\u001b[39m'\u001b[39m\u001b[39mMOSSE\u001b[39m\u001b[39m'\u001b[39m)\n\u001b[0;32m     15\u001b[0m tracker\u001b[39m.\u001b[39minit(gray1, (\u001b[39m100\u001b[39m, \u001b[39m100\u001b[39m, \u001b[39m50\u001b[39m, \u001b[39m50\u001b[39m))\n\u001b[0;32m     17\u001b[0m \u001b[39m# Loop through the rest of the images\u001b[39;00m\n",
      "\u001b[1;31mAttributeError\u001b[0m: module 'cv2' has no attribute 'Tracker_create'"
     ]
    }
   ],
   "source": [
    "import cv2\n",
    "import numpy as np\n",
    "\n",
    "# Load the first image\n",
    "img1 = cv2.imread('Data\\Exp_grp\\image006.jpg')\n",
    "\n",
    "# Convert to grayscale\n",
    "gray1 = cv2.cvtColor(img1, cv2.COLOR_BGR2GRAY)\n",
    "\n",
    "# Define the cell to track\n",
    "cell_template = gray1[100:150, 100:150]\n",
    "\n",
    "# Initialize the tracker\n",
    "tracker = cv2.Tracker_create('MOSSE')\n",
    "tracker.init(gray1, (100, 100, 50, 50))\n",
    "\n",
    "# Loop through the rest of the images\n",
    "for i in range(2, 145):\n",
    "    # Load the current image\n",
    "    img2 = cv2.imread(f'Data\\Exp_grp\\image00{i}.jpg')\n",
    "\n",
    "    # Convert to grayscale\n",
    "    gray2 = cv2.cvtColor(img2, cv2.COLOR_BGR2GRAY)\n",
    "\n",
    "    # Track the cell template in the current image\n",
    "    success, bbox = tracker.update(gray2)\n",
    "\n",
    "    if success:\n",
    "        # Draw a rectangle around the tracked cell\n",
    "        x, y, w, h = [int(v) for v in bbox]\n",
    "        cv2.rectangle(img2, (x, y), (x + w, y + h), (0, 255, 0), 2)\n",
    "\n",
    "        # Print the x and y coordinates of the cell\n",
    "        print(f'Image {i}: ({x + w//2}, {y + h//2})')\n",
    "    else:\n",
    "        print(f'Image {i}: Cell not found')\n",
    "\n",
    "    # Update the cell template\n",
    "    cell_template = gray2[y:y+h, x:x+w]\n",
    "    tracker.init(gray2, bbox)\n",
    "\n",
    "    # Display the current image\n",
    "    cv2.imshow('image', img2)\n",
    "    cv2.waitKey(0)\n",
    "\n",
    "cv2.destroyAllWindows()\n"
   ]
  },
  {
   "cell_type": "code",
   "execution_count": null,
   "metadata": {},
   "outputs": [],
   "source": []
  }
 ],
 "metadata": {
  "kernelspec": {
   "display_name": "Python 3",
   "language": "python",
   "name": "python3"
  },
  "language_info": {
   "codemirror_mode": {
    "name": "ipython",
    "version": 3
   },
   "file_extension": ".py",
   "mimetype": "text/x-python",
   "name": "python",
   "nbconvert_exporter": "python",
   "pygments_lexer": "ipython3",
   "version": "3.11.2"
  },
  "orig_nbformat": 4
 },
 "nbformat": 4,
 "nbformat_minor": 2
}
